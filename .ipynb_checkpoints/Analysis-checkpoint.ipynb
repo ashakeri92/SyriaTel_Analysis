{
 "cells": [
  {
   "cell_type": "markdown",
   "metadata": {},
   "source": [
    "# SyriaTel Customer Churn Analysis"
   ]
  },
  {
   "cell_type": "markdown",
   "metadata": {},
   "source": [
    "by: Armun Shakeri"
   ]
  },
  {
   "cell_type": "markdown",
   "metadata": {},
   "source": [
    "# Overview"
   ]
  },
  {
   "cell_type": "markdown",
   "metadata": {},
   "source": [
    "This project analyzes SyriaTel Customer Churn dataset to explore if there are any predictable patterns with \n",
    "cutomer turnover. "
   ]
  },
  {
   "cell_type": "markdown",
   "metadata": {},
   "source": [
    "# Business Problem"
   ]
  },
  {
   "cell_type": "markdown",
   "metadata": {},
   "source": [
    "SyriaTel is interested in reducing the amount of money lost due to customer turnover. This project seeks to\n",
    "analyze customer data and identify any patterns that lead to customer churn. "
   ]
  },
  {
   "cell_type": "markdown",
   "metadata": {},
   "source": [
    "# Data Understanding"
   ]
  },
  {
   "cell_type": "markdown",
   "metadata": {},
   "source": [
    "We will begin analysis by importing all standard packages that are needed for this project. "
   ]
  },
  {
   "cell_type": "code",
   "execution_count": 1,
   "metadata": {},
   "outputs": [],
   "source": [
    "# Import standard packages\n",
    "import pandas as pd\n",
    "import numpy as np\n",
    "import seaborn as sns\n",
    "import zipfile\n",
    "import matplotlib.pyplot as plt\n",
    "from imblearn.over_sampling import SMOTE\n",
    "from sklearn.metrics import plot_confusion_matrix\n",
    "from sklearn.model_selection import train_test_split\n",
    "from sklearn.linear_model import LogisticRegression\n",
    "from sklearn.preprocessing import StandardScaler\n",
    "from sklearn.preprocessing import OneHotEncoder\n",
    "from sklearn.metrics import precision_score, recall_score, accuracy_score, f1_score, classification_report\n",
    "from sklearn.tree import DecisionTreeClassifier\n",
    "from sklearn.ensemble import BaggingClassifier, RandomForestClassifier\n",
    "from xgboost import XGBClassifier\n",
    "%matplotlib inline"
   ]
  },
  {
   "cell_type": "markdown",
   "metadata": {},
   "source": [
    "Next we will import our data from SyriaTel and we will also display the information regarding the data. "
   ]
  },
  {
   "cell_type": "code",
   "execution_count": 2,
   "metadata": {},
   "outputs": [
    {
     "name": "stdout",
     "output_type": "stream",
     "text": [
      "<class 'pandas.core.frame.DataFrame'>\n",
      "RangeIndex: 3333 entries, 0 to 3332\n",
      "Data columns (total 21 columns):\n",
      " #   Column                  Non-Null Count  Dtype  \n",
      "---  ------                  --------------  -----  \n",
      " 0   state                   3333 non-null   object \n",
      " 1   account length          3333 non-null   int64  \n",
      " 2   area code               3333 non-null   int64  \n",
      " 3   phone number            3333 non-null   object \n",
      " 4   international plan      3333 non-null   object \n",
      " 5   voice mail plan         3333 non-null   object \n",
      " 6   number vmail messages   3333 non-null   int64  \n",
      " 7   total day minutes       3333 non-null   float64\n",
      " 8   total day calls         3333 non-null   int64  \n",
      " 9   total day charge        3333 non-null   float64\n",
      " 10  total eve minutes       3333 non-null   float64\n",
      " 11  total eve calls         3333 non-null   int64  \n",
      " 12  total eve charge        3333 non-null   float64\n",
      " 13  total night minutes     3333 non-null   float64\n",
      " 14  total night calls       3333 non-null   int64  \n",
      " 15  total night charge      3333 non-null   float64\n",
      " 16  total intl minutes      3333 non-null   float64\n",
      " 17  total intl calls        3333 non-null   int64  \n",
      " 18  total intl charge       3333 non-null   float64\n",
      " 19  customer service calls  3333 non-null   int64  \n",
      " 20  churn                   3333 non-null   bool   \n",
      "dtypes: bool(1), float64(8), int64(8), object(4)\n",
      "memory usage: 524.2+ KB\n"
     ]
    }
   ],
   "source": [
    "# Import data and display all columns\n",
    "df = pd.read_csv(\"archive/bigml_59c28831336c6604c800002a.csv\")\n",
    "df.info()"
   ]
  },
  {
   "cell_type": "markdown",
   "metadata": {},
   "source": [
    "This data set contains many columns which can be dropped since they will not offer anything towards our main goal, and the data has many different data types which will be problematic for analysis. To begin the data cleaning process we will drop 3 columns, state, area code, and phone number since they do not offer any necessary information for analysis. "
   ]
  },
  {
   "cell_type": "code",
   "execution_count": 3,
   "metadata": {},
   "outputs": [
    {
     "data": {
      "text/html": [
       "<div>\n",
       "<style scoped>\n",
       "    .dataframe tbody tr th:only-of-type {\n",
       "        vertical-align: middle;\n",
       "    }\n",
       "\n",
       "    .dataframe tbody tr th {\n",
       "        vertical-align: top;\n",
       "    }\n",
       "\n",
       "    .dataframe thead th {\n",
       "        text-align: right;\n",
       "    }\n",
       "</style>\n",
       "<table border=\"1\" class=\"dataframe\">\n",
       "  <thead>\n",
       "    <tr style=\"text-align: right;\">\n",
       "      <th></th>\n",
       "      <th>account length</th>\n",
       "      <th>international plan</th>\n",
       "      <th>voice mail plan</th>\n",
       "      <th>number vmail messages</th>\n",
       "      <th>total day minutes</th>\n",
       "      <th>total day calls</th>\n",
       "      <th>total day charge</th>\n",
       "      <th>total eve minutes</th>\n",
       "      <th>total eve calls</th>\n",
       "      <th>total eve charge</th>\n",
       "      <th>total night minutes</th>\n",
       "      <th>total night calls</th>\n",
       "      <th>total night charge</th>\n",
       "      <th>total intl minutes</th>\n",
       "      <th>total intl calls</th>\n",
       "      <th>total intl charge</th>\n",
       "      <th>customer service calls</th>\n",
       "      <th>churn</th>\n",
       "    </tr>\n",
       "  </thead>\n",
       "  <tbody>\n",
       "    <tr>\n",
       "      <th>0</th>\n",
       "      <td>128</td>\n",
       "      <td>no</td>\n",
       "      <td>yes</td>\n",
       "      <td>25</td>\n",
       "      <td>265.1</td>\n",
       "      <td>110</td>\n",
       "      <td>45.07</td>\n",
       "      <td>197.4</td>\n",
       "      <td>99</td>\n",
       "      <td>16.78</td>\n",
       "      <td>244.7</td>\n",
       "      <td>91</td>\n",
       "      <td>11.01</td>\n",
       "      <td>10.0</td>\n",
       "      <td>3</td>\n",
       "      <td>2.70</td>\n",
       "      <td>1</td>\n",
       "      <td>False</td>\n",
       "    </tr>\n",
       "    <tr>\n",
       "      <th>1</th>\n",
       "      <td>107</td>\n",
       "      <td>no</td>\n",
       "      <td>yes</td>\n",
       "      <td>26</td>\n",
       "      <td>161.6</td>\n",
       "      <td>123</td>\n",
       "      <td>27.47</td>\n",
       "      <td>195.5</td>\n",
       "      <td>103</td>\n",
       "      <td>16.62</td>\n",
       "      <td>254.4</td>\n",
       "      <td>103</td>\n",
       "      <td>11.45</td>\n",
       "      <td>13.7</td>\n",
       "      <td>3</td>\n",
       "      <td>3.70</td>\n",
       "      <td>1</td>\n",
       "      <td>False</td>\n",
       "    </tr>\n",
       "    <tr>\n",
       "      <th>2</th>\n",
       "      <td>137</td>\n",
       "      <td>no</td>\n",
       "      <td>no</td>\n",
       "      <td>0</td>\n",
       "      <td>243.4</td>\n",
       "      <td>114</td>\n",
       "      <td>41.38</td>\n",
       "      <td>121.2</td>\n",
       "      <td>110</td>\n",
       "      <td>10.30</td>\n",
       "      <td>162.6</td>\n",
       "      <td>104</td>\n",
       "      <td>7.32</td>\n",
       "      <td>12.2</td>\n",
       "      <td>5</td>\n",
       "      <td>3.29</td>\n",
       "      <td>0</td>\n",
       "      <td>False</td>\n",
       "    </tr>\n",
       "    <tr>\n",
       "      <th>3</th>\n",
       "      <td>84</td>\n",
       "      <td>yes</td>\n",
       "      <td>no</td>\n",
       "      <td>0</td>\n",
       "      <td>299.4</td>\n",
       "      <td>71</td>\n",
       "      <td>50.90</td>\n",
       "      <td>61.9</td>\n",
       "      <td>88</td>\n",
       "      <td>5.26</td>\n",
       "      <td>196.9</td>\n",
       "      <td>89</td>\n",
       "      <td>8.86</td>\n",
       "      <td>6.6</td>\n",
       "      <td>7</td>\n",
       "      <td>1.78</td>\n",
       "      <td>2</td>\n",
       "      <td>False</td>\n",
       "    </tr>\n",
       "    <tr>\n",
       "      <th>4</th>\n",
       "      <td>75</td>\n",
       "      <td>yes</td>\n",
       "      <td>no</td>\n",
       "      <td>0</td>\n",
       "      <td>166.7</td>\n",
       "      <td>113</td>\n",
       "      <td>28.34</td>\n",
       "      <td>148.3</td>\n",
       "      <td>122</td>\n",
       "      <td>12.61</td>\n",
       "      <td>186.9</td>\n",
       "      <td>121</td>\n",
       "      <td>8.41</td>\n",
       "      <td>10.1</td>\n",
       "      <td>3</td>\n",
       "      <td>2.73</td>\n",
       "      <td>3</td>\n",
       "      <td>False</td>\n",
       "    </tr>\n",
       "  </tbody>\n",
       "</table>\n",
       "</div>"
      ],
      "text/plain": [
       "   account length international plan voice mail plan  number vmail messages  \\\n",
       "0             128                 no             yes                     25   \n",
       "1             107                 no             yes                     26   \n",
       "2             137                 no              no                      0   \n",
       "3              84                yes              no                      0   \n",
       "4              75                yes              no                      0   \n",
       "\n",
       "   total day minutes  total day calls  total day charge  total eve minutes  \\\n",
       "0              265.1              110             45.07              197.4   \n",
       "1              161.6              123             27.47              195.5   \n",
       "2              243.4              114             41.38              121.2   \n",
       "3              299.4               71             50.90               61.9   \n",
       "4              166.7              113             28.34              148.3   \n",
       "\n",
       "   total eve calls  total eve charge  total night minutes  total night calls  \\\n",
       "0               99             16.78                244.7                 91   \n",
       "1              103             16.62                254.4                103   \n",
       "2              110             10.30                162.6                104   \n",
       "3               88              5.26                196.9                 89   \n",
       "4              122             12.61                186.9                121   \n",
       "\n",
       "   total night charge  total intl minutes  total intl calls  \\\n",
       "0               11.01                10.0                 3   \n",
       "1               11.45                13.7                 3   \n",
       "2                7.32                12.2                 5   \n",
       "3                8.86                 6.6                 7   \n",
       "4                8.41                10.1                 3   \n",
       "\n",
       "   total intl charge  customer service calls  churn  \n",
       "0               2.70                       1  False  \n",
       "1               3.70                       1  False  \n",
       "2               3.29                       0  False  \n",
       "3               1.78                       2  False  \n",
       "4               2.73                       3  False  "
      ]
     },
     "execution_count": 3,
     "metadata": {},
     "output_type": "execute_result"
    }
   ],
   "source": [
    "# Dropped area code, state, and phone number \n",
    "# Display first 5 rows\n",
    "df = df.drop([\"state\", \"area code\", \"phone number\"], axis=1)\n",
    "df.head()"
   ]
  },
  {
   "cell_type": "code",
   "execution_count": 4,
   "metadata": {},
   "outputs": [],
   "source": [
    "# Drop all N/a values\n",
    "df = df.dropna()"
   ]
  },
  {
   "cell_type": "markdown",
   "metadata": {},
   "source": [
    "We will continue data exploration by plotting several categories against churn to see if there are any patterns that would lead to a customer leaving SyriaTel. "
   ]
  },
  {
   "cell_type": "code",
   "execution_count": 5,
   "metadata": {},
   "outputs": [
    {
     "data": {
      "image/png": "[encoded data removed]",
      "text/plain": [
       "<Figure size 432x288 with 1 Axes>"
      ]
     },
     "metadata": {},
     "output_type": "display_data"
    }
   ],
   "source": [
    "# Fig 1\n",
    "# Use countplot to plot customer service calls against customer churn \n",
    "sns.set_theme(style=\"darkgrid\")\n",
    "ax = sns.countplot(x=\"customer service calls\", hue=\"churn\", data=df)"
   ]
  },
  {
   "cell_type": "code",
   "execution_count": 6,
   "metadata": {},
   "outputs": [
    {
     "data": {
      "image/png": "[encoded data removed]",
      "text/plain": [
       "<Figure size 432x288 with 1 Axes>"
      ]
     },
     "metadata": {},
     "output_type": "display_data"
    }
   ],
   "source": [
    "# Fig 2\n",
    "# Use countplot to plot international/domestic plans against customer churn \n",
    "sns.set_theme(style=\"darkgrid\")\n",
    "ax = sns.countplot(x=\"international plan\", hue=\"churn\", data=df)\n",
    "\n",
    "# international clients have a higher chance of churn"
   ]
  },
  {
   "cell_type": "code",
   "execution_count": 7,
   "metadata": {},
   "outputs": [
    {
     "data": {
      "image/png": "[encoded data removed]",
      "text/plain": [
       "<Figure size 432x288 with 1 Axes>"
      ]
     },
     "metadata": {},
     "output_type": "display_data"
    }
   ],
   "source": [
    "# Fig 3\n",
    "# Plot states against customer churn\n",
    "sns.set_theme(style=\"darkgrid\")\n",
    "ax = sns.countplot(x=\"voice mail plan\", hue=\"churn\", data=df)"
   ]
  },
  {
   "cell_type": "code",
   "execution_count": 8,
   "metadata": {},
   "outputs": [
    {
     "data": {
      "image/png": "[encoded data removed]",
      "text/plain": [
       "<Figure size 432x288 with 1 Axes>"
      ]
     },
     "metadata": {},
     "output_type": "display_data"
    }
   ],
   "source": [
    "# Fig 4\n",
    "# Use histplot to plot account length against customer churn \n",
    "sns.set_theme(style=\"darkgrid\")\n",
    "ax = sns.histplot(x=\"account length\", hue=\"churn\", data=df)"
   ]
  },
  {
   "cell_type": "markdown",
   "metadata": {},
   "source": [
    "By plotting there are patterns observable, we will continue by building models next. To do so we need to prepare the data for modeling. We will begin by using onehotencoder to deal with categorical variables. For international plan and voicemail plan we will change \"yes\" to 1 and \"no\" to 0, then we will continue by changing churn data type to integer. "
   ]
  },
  {
   "cell_type": "code",
   "execution_count": 9,
   "metadata": {},
   "outputs": [],
   "source": [
    "# For categories with yes/no variables, make \"yes\" = 1 and \"no\" = 0\n",
    "df['international plan'] = df['international plan'].apply(lambda x : 1 if \"yes\" else 0)\n",
    "df['voice mail plan'] = df['voice mail plan'].apply(lambda x : 1 if \"yes\" else 0)"
   ]
  },
  {
   "cell_type": "code",
   "execution_count": 10,
   "metadata": {},
   "outputs": [
    {
     "data": {
      "text/html": [
       "<div>\n",
       "<style scoped>\n",
       "    .dataframe tbody tr th:only-of-type {\n",
       "        vertical-align: middle;\n",
       "    }\n",
       "\n",
       "    .dataframe tbody tr th {\n",
       "        vertical-align: top;\n",
       "    }\n",
       "\n",
       "    .dataframe thead th {\n",
       "        text-align: right;\n",
       "    }\n",
       "</style>\n",
       "<table border=\"1\" class=\"dataframe\">\n",
       "  <thead>\n",
       "    <tr style=\"text-align: right;\">\n",
       "      <th></th>\n",
       "      <th>account length</th>\n",
       "      <th>international plan</th>\n",
       "      <th>voice mail plan</th>\n",
       "      <th>number vmail messages</th>\n",
       "      <th>total day minutes</th>\n",
       "      <th>total day calls</th>\n",
       "      <th>total day charge</th>\n",
       "      <th>total eve minutes</th>\n",
       "      <th>total eve calls</th>\n",
       "      <th>total eve charge</th>\n",
       "      <th>total night minutes</th>\n",
       "      <th>total night calls</th>\n",
       "      <th>total night charge</th>\n",
       "      <th>total intl minutes</th>\n",
       "      <th>total intl calls</th>\n",
       "      <th>total intl charge</th>\n",
       "      <th>customer service calls</th>\n",
       "      <th>churn</th>\n",
       "    </tr>\n",
       "  </thead>\n",
       "  <tbody>\n",
       "    <tr>\n",
       "      <th>0</th>\n",
       "      <td>128</td>\n",
       "      <td>1</td>\n",
       "      <td>1</td>\n",
       "      <td>25</td>\n",
       "      <td>265.1</td>\n",
       "      <td>110</td>\n",
       "      <td>45.07</td>\n",
       "      <td>197.4</td>\n",
       "      <td>99</td>\n",
       "      <td>16.78</td>\n",
       "      <td>244.7</td>\n",
       "      <td>91</td>\n",
       "      <td>11.01</td>\n",
       "      <td>10.0</td>\n",
       "      <td>3</td>\n",
       "      <td>2.70</td>\n",
       "      <td>1</td>\n",
       "      <td>0</td>\n",
       "    </tr>\n",
       "    <tr>\n",
       "      <th>1</th>\n",
       "      <td>107</td>\n",
       "      <td>1</td>\n",
       "      <td>1</td>\n",
       "      <td>26</td>\n",
       "      <td>161.6</td>\n",
       "      <td>123</td>\n",
       "      <td>27.47</td>\n",
       "      <td>195.5</td>\n",
       "      <td>103</td>\n",
       "      <td>16.62</td>\n",
       "      <td>254.4</td>\n",
       "      <td>103</td>\n",
       "      <td>11.45</td>\n",
       "      <td>13.7</td>\n",
       "      <td>3</td>\n",
       "      <td>3.70</td>\n",
       "      <td>1</td>\n",
       "      <td>0</td>\n",
       "    </tr>\n",
       "    <tr>\n",
       "      <th>2</th>\n",
       "      <td>137</td>\n",
       "      <td>1</td>\n",
       "      <td>1</td>\n",
       "      <td>0</td>\n",
       "      <td>243.4</td>\n",
       "      <td>114</td>\n",
       "      <td>41.38</td>\n",
       "      <td>121.2</td>\n",
       "      <td>110</td>\n",
       "      <td>10.30</td>\n",
       "      <td>162.6</td>\n",
       "      <td>104</td>\n",
       "      <td>7.32</td>\n",
       "      <td>12.2</td>\n",
       "      <td>5</td>\n",
       "      <td>3.29</td>\n",
       "      <td>0</td>\n",
       "      <td>0</td>\n",
       "    </tr>\n",
       "    <tr>\n",
       "      <th>3</th>\n",
       "      <td>84</td>\n",
       "      <td>1</td>\n",
       "      <td>1</td>\n",
       "      <td>0</td>\n",
       "      <td>299.4</td>\n",
       "      <td>71</td>\n",
       "      <td>50.90</td>\n",
       "      <td>61.9</td>\n",
       "      <td>88</td>\n",
       "      <td>5.26</td>\n",
       "      <td>196.9</td>\n",
       "      <td>89</td>\n",
       "      <td>8.86</td>\n",
       "      <td>6.6</td>\n",
       "      <td>7</td>\n",
       "      <td>1.78</td>\n",
       "      <td>2</td>\n",
       "      <td>0</td>\n",
       "    </tr>\n",
       "    <tr>\n",
       "      <th>4</th>\n",
       "      <td>75</td>\n",
       "      <td>1</td>\n",
       "      <td>1</td>\n",
       "      <td>0</td>\n",
       "      <td>166.7</td>\n",
       "      <td>113</td>\n",
       "      <td>28.34</td>\n",
       "      <td>148.3</td>\n",
       "      <td>122</td>\n",
       "      <td>12.61</td>\n",
       "      <td>186.9</td>\n",
       "      <td>121</td>\n",
       "      <td>8.41</td>\n",
       "      <td>10.1</td>\n",
       "      <td>3</td>\n",
       "      <td>2.73</td>\n",
       "      <td>3</td>\n",
       "      <td>0</td>\n",
       "    </tr>\n",
       "  </tbody>\n",
       "</table>\n",
       "</div>"
      ],
      "text/plain": [
       "   account length  international plan  voice mail plan  number vmail messages  \\\n",
       "0             128                   1                1                     25   \n",
       "1             107                   1                1                     26   \n",
       "2             137                   1                1                      0   \n",
       "3              84                   1                1                      0   \n",
       "4              75                   1                1                      0   \n",
       "\n",
       "   total day minutes  total day calls  total day charge  total eve minutes  \\\n",
       "0              265.1              110             45.07              197.4   \n",
       "1              161.6              123             27.47              195.5   \n",
       "2              243.4              114             41.38              121.2   \n",
       "3              299.4               71             50.90               61.9   \n",
       "4              166.7              113             28.34              148.3   \n",
       "\n",
       "   total eve calls  total eve charge  total night minutes  total night calls  \\\n",
       "0               99             16.78                244.7                 91   \n",
       "1              103             16.62                254.4                103   \n",
       "2              110             10.30                162.6                104   \n",
       "3               88              5.26                196.9                 89   \n",
       "4              122             12.61                186.9                121   \n",
       "\n",
       "   total night charge  total intl minutes  total intl calls  \\\n",
       "0               11.01                10.0                 3   \n",
       "1               11.45                13.7                 3   \n",
       "2                7.32                12.2                 5   \n",
       "3                8.86                 6.6                 7   \n",
       "4                8.41                10.1                 3   \n",
       "\n",
       "   total intl charge  customer service calls  churn  \n",
       "0               2.70                       1      0  \n",
       "1               3.70                       1      0  \n",
       "2               3.29                       0      0  \n",
       "3               1.78                       2      0  \n",
       "4               2.73                       3      0  "
      ]
     },
     "execution_count": 10,
     "metadata": {},
     "output_type": "execute_result"
    }
   ],
   "source": [
    "# change churn type to int\n",
    "df['churn'] = df['churn'].astype(int)\n",
    "df.head()"
   ]
  },
  {
   "cell_type": "markdown",
   "metadata": {},
   "source": [
    "The final step to begin modeling we will need to split our data into feature and target dataframes. We will set X as all variables except \"churn\" and we will set y to \"churn\". We will also scale the X variables for modeling. "
   ]
  },
  {
   "cell_type": "code",
   "execution_count": 11,
   "metadata": {},
   "outputs": [
    {
     "data": {
      "text/html": [
       "<div>\n",
       "<style scoped>\n",
       "    .dataframe tbody tr th:only-of-type {\n",
       "        vertical-align: middle;\n",
       "    }\n",
       "\n",
       "    .dataframe tbody tr th {\n",
       "        vertical-align: top;\n",
       "    }\n",
       "\n",
       "    .dataframe thead th {\n",
       "        text-align: right;\n",
       "    }\n",
       "</style>\n",
       "<table border=\"1\" class=\"dataframe\">\n",
       "  <thead>\n",
       "    <tr style=\"text-align: right;\">\n",
       "      <th></th>\n",
       "      <th>account length</th>\n",
       "      <th>international plan</th>\n",
       "      <th>voice mail plan</th>\n",
       "      <th>number vmail messages</th>\n",
       "      <th>total day minutes</th>\n",
       "      <th>total day calls</th>\n",
       "      <th>total day charge</th>\n",
       "      <th>total eve minutes</th>\n",
       "      <th>total eve calls</th>\n",
       "      <th>total eve charge</th>\n",
       "      <th>total night minutes</th>\n",
       "      <th>total night calls</th>\n",
       "      <th>total night charge</th>\n",
       "      <th>total intl minutes</th>\n",
       "      <th>total intl calls</th>\n",
       "      <th>total intl charge</th>\n",
       "      <th>customer service calls</th>\n",
       "      <th>churn</th>\n",
       "    </tr>\n",
       "  </thead>\n",
       "  <tbody>\n",
       "    <tr>\n",
       "      <th>account length</th>\n",
       "      <td>1.000000</td>\n",
       "      <td>NaN</td>\n",
       "      <td>NaN</td>\n",
       "      <td>-0.004628</td>\n",
       "      <td>0.006216</td>\n",
       "      <td>0.038470</td>\n",
       "      <td>0.006214</td>\n",
       "      <td>-0.006757</td>\n",
       "      <td>0.019260</td>\n",
       "      <td>-0.006745</td>\n",
       "      <td>-0.008955</td>\n",
       "      <td>-0.013176</td>\n",
       "      <td>-0.008960</td>\n",
       "      <td>0.009514</td>\n",
       "      <td>0.020661</td>\n",
       "      <td>0.009546</td>\n",
       "      <td>-0.003796</td>\n",
       "      <td>0.016541</td>\n",
       "    </tr>\n",
       "    <tr>\n",
       "      <th>international plan</th>\n",
       "      <td>NaN</td>\n",
       "      <td>NaN</td>\n",
       "      <td>NaN</td>\n",
       "      <td>NaN</td>\n",
       "      <td>NaN</td>\n",
       "      <td>NaN</td>\n",
       "      <td>NaN</td>\n",
       "      <td>NaN</td>\n",
       "      <td>NaN</td>\n",
       "      <td>NaN</td>\n",
       "      <td>NaN</td>\n",
       "      <td>NaN</td>\n",
       "      <td>NaN</td>\n",
       "      <td>NaN</td>\n",
       "      <td>NaN</td>\n",
       "      <td>NaN</td>\n",
       "      <td>NaN</td>\n",
       "      <td>NaN</td>\n",
       "    </tr>\n",
       "    <tr>\n",
       "      <th>voice mail plan</th>\n",
       "      <td>NaN</td>\n",
       "      <td>NaN</td>\n",
       "      <td>NaN</td>\n",
       "      <td>NaN</td>\n",
       "      <td>NaN</td>\n",
       "      <td>NaN</td>\n",
       "      <td>NaN</td>\n",
       "      <td>NaN</td>\n",
       "      <td>NaN</td>\n",
       "      <td>NaN</td>\n",
       "      <td>NaN</td>\n",
       "      <td>NaN</td>\n",
       "      <td>NaN</td>\n",
       "      <td>NaN</td>\n",
       "      <td>NaN</td>\n",
       "      <td>NaN</td>\n",
       "      <td>NaN</td>\n",
       "      <td>NaN</td>\n",
       "    </tr>\n",
       "    <tr>\n",
       "      <th>number vmail messages</th>\n",
       "      <td>-0.004628</td>\n",
       "      <td>NaN</td>\n",
       "      <td>NaN</td>\n",
       "      <td>1.000000</td>\n",
       "      <td>0.000778</td>\n",
       "      <td>-0.009548</td>\n",
       "      <td>0.000776</td>\n",
       "      <td>0.017562</td>\n",
       "      <td>-0.005864</td>\n",
       "      <td>0.017578</td>\n",
       "      <td>0.007681</td>\n",
       "      <td>0.007123</td>\n",
       "      <td>0.007663</td>\n",
       "      <td>0.002856</td>\n",
       "      <td>0.013957</td>\n",
       "      <td>0.002884</td>\n",
       "      <td>-0.013263</td>\n",
       "      <td>-0.089728</td>\n",
       "    </tr>\n",
       "    <tr>\n",
       "      <th>total day minutes</th>\n",
       "      <td>0.006216</td>\n",
       "      <td>NaN</td>\n",
       "      <td>NaN</td>\n",
       "      <td>0.000778</td>\n",
       "      <td>1.000000</td>\n",
       "      <td>0.006750</td>\n",
       "      <td>1.000000</td>\n",
       "      <td>0.007043</td>\n",
       "      <td>0.015769</td>\n",
       "      <td>0.007029</td>\n",
       "      <td>0.004323</td>\n",
       "      <td>0.022972</td>\n",
       "      <td>0.004300</td>\n",
       "      <td>-0.010155</td>\n",
       "      <td>0.008033</td>\n",
       "      <td>-0.010092</td>\n",
       "      <td>-0.013423</td>\n",
       "      <td>0.205151</td>\n",
       "    </tr>\n",
       "    <tr>\n",
       "      <th>total day calls</th>\n",
       "      <td>0.038470</td>\n",
       "      <td>NaN</td>\n",
       "      <td>NaN</td>\n",
       "      <td>-0.009548</td>\n",
       "      <td>0.006750</td>\n",
       "      <td>1.000000</td>\n",
       "      <td>0.006753</td>\n",
       "      <td>-0.021451</td>\n",
       "      <td>0.006462</td>\n",
       "      <td>-0.021449</td>\n",
       "      <td>0.022938</td>\n",
       "      <td>-0.019557</td>\n",
       "      <td>0.022927</td>\n",
       "      <td>0.021565</td>\n",
       "      <td>0.004574</td>\n",
       "      <td>0.021666</td>\n",
       "      <td>-0.018942</td>\n",
       "      <td>0.018459</td>\n",
       "    </tr>\n",
       "    <tr>\n",
       "      <th>total day charge</th>\n",
       "      <td>0.006214</td>\n",
       "      <td>NaN</td>\n",
       "      <td>NaN</td>\n",
       "      <td>0.000776</td>\n",
       "      <td>1.000000</td>\n",
       "      <td>0.006753</td>\n",
       "      <td>1.000000</td>\n",
       "      <td>0.007050</td>\n",
       "      <td>0.015769</td>\n",
       "      <td>0.007036</td>\n",
       "      <td>0.004324</td>\n",
       "      <td>0.022972</td>\n",
       "      <td>0.004301</td>\n",
       "      <td>-0.010157</td>\n",
       "      <td>0.008032</td>\n",
       "      <td>-0.010094</td>\n",
       "      <td>-0.013427</td>\n",
       "      <td>0.205151</td>\n",
       "    </tr>\n",
       "    <tr>\n",
       "      <th>total eve minutes</th>\n",
       "      <td>-0.006757</td>\n",
       "      <td>NaN</td>\n",
       "      <td>NaN</td>\n",
       "      <td>0.017562</td>\n",
       "      <td>0.007043</td>\n",
       "      <td>-0.021451</td>\n",
       "      <td>0.007050</td>\n",
       "      <td>1.000000</td>\n",
       "      <td>-0.011430</td>\n",
       "      <td>1.000000</td>\n",
       "      <td>-0.012584</td>\n",
       "      <td>0.007586</td>\n",
       "      <td>-0.012593</td>\n",
       "      <td>-0.011035</td>\n",
       "      <td>0.002541</td>\n",
       "      <td>-0.011067</td>\n",
       "      <td>-0.012985</td>\n",
       "      <td>0.092796</td>\n",
       "    </tr>\n",
       "    <tr>\n",
       "      <th>total eve calls</th>\n",
       "      <td>0.019260</td>\n",
       "      <td>NaN</td>\n",
       "      <td>NaN</td>\n",
       "      <td>-0.005864</td>\n",
       "      <td>0.015769</td>\n",
       "      <td>0.006462</td>\n",
       "      <td>0.015769</td>\n",
       "      <td>-0.011430</td>\n",
       "      <td>1.000000</td>\n",
       "      <td>-0.011423</td>\n",
       "      <td>-0.002093</td>\n",
       "      <td>0.007710</td>\n",
       "      <td>-0.002056</td>\n",
       "      <td>0.008703</td>\n",
       "      <td>0.017434</td>\n",
       "      <td>0.008674</td>\n",
       "      <td>0.002423</td>\n",
       "      <td>0.009233</td>\n",
       "    </tr>\n",
       "    <tr>\n",
       "      <th>total eve charge</th>\n",
       "      <td>-0.006745</td>\n",
       "      <td>NaN</td>\n",
       "      <td>NaN</td>\n",
       "      <td>0.017578</td>\n",
       "      <td>0.007029</td>\n",
       "      <td>-0.021449</td>\n",
       "      <td>0.007036</td>\n",
       "      <td>1.000000</td>\n",
       "      <td>-0.011423</td>\n",
       "      <td>1.000000</td>\n",
       "      <td>-0.012592</td>\n",
       "      <td>0.007596</td>\n",
       "      <td>-0.012601</td>\n",
       "      <td>-0.011043</td>\n",
       "      <td>0.002541</td>\n",
       "      <td>-0.011074</td>\n",
       "      <td>-0.012987</td>\n",
       "      <td>0.092786</td>\n",
       "    </tr>\n",
       "    <tr>\n",
       "      <th>total night minutes</th>\n",
       "      <td>-0.008955</td>\n",
       "      <td>NaN</td>\n",
       "      <td>NaN</td>\n",
       "      <td>0.007681</td>\n",
       "      <td>0.004323</td>\n",
       "      <td>0.022938</td>\n",
       "      <td>0.004324</td>\n",
       "      <td>-0.012584</td>\n",
       "      <td>-0.002093</td>\n",
       "      <td>-0.012592</td>\n",
       "      <td>1.000000</td>\n",
       "      <td>0.011204</td>\n",
       "      <td>0.999999</td>\n",
       "      <td>-0.015207</td>\n",
       "      <td>-0.012353</td>\n",
       "      <td>-0.015180</td>\n",
       "      <td>-0.009288</td>\n",
       "      <td>0.035493</td>\n",
       "    </tr>\n",
       "    <tr>\n",
       "      <th>total night calls</th>\n",
       "      <td>-0.013176</td>\n",
       "      <td>NaN</td>\n",
       "      <td>NaN</td>\n",
       "      <td>0.007123</td>\n",
       "      <td>0.022972</td>\n",
       "      <td>-0.019557</td>\n",
       "      <td>0.022972</td>\n",
       "      <td>0.007586</td>\n",
       "      <td>0.007710</td>\n",
       "      <td>0.007596</td>\n",
       "      <td>0.011204</td>\n",
       "      <td>1.000000</td>\n",
       "      <td>0.011188</td>\n",
       "      <td>-0.013605</td>\n",
       "      <td>0.000305</td>\n",
       "      <td>-0.013630</td>\n",
       "      <td>-0.012802</td>\n",
       "      <td>0.006141</td>\n",
       "    </tr>\n",
       "    <tr>\n",
       "      <th>total night charge</th>\n",
       "      <td>-0.008960</td>\n",
       "      <td>NaN</td>\n",
       "      <td>NaN</td>\n",
       "      <td>0.007663</td>\n",
       "      <td>0.004300</td>\n",
       "      <td>0.022927</td>\n",
       "      <td>0.004301</td>\n",
       "      <td>-0.012593</td>\n",
       "      <td>-0.002056</td>\n",
       "      <td>-0.012601</td>\n",
       "      <td>0.999999</td>\n",
       "      <td>0.011188</td>\n",
       "      <td>1.000000</td>\n",
       "      <td>-0.015214</td>\n",
       "      <td>-0.012329</td>\n",
       "      <td>-0.015186</td>\n",
       "      <td>-0.009277</td>\n",
       "      <td>0.035496</td>\n",
       "    </tr>\n",
       "    <tr>\n",
       "      <th>total intl minutes</th>\n",
       "      <td>0.009514</td>\n",
       "      <td>NaN</td>\n",
       "      <td>NaN</td>\n",
       "      <td>0.002856</td>\n",
       "      <td>-0.010155</td>\n",
       "      <td>0.021565</td>\n",
       "      <td>-0.010157</td>\n",
       "      <td>-0.011035</td>\n",
       "      <td>0.008703</td>\n",
       "      <td>-0.011043</td>\n",
       "      <td>-0.015207</td>\n",
       "      <td>-0.013605</td>\n",
       "      <td>-0.015214</td>\n",
       "      <td>1.000000</td>\n",
       "      <td>0.032304</td>\n",
       "      <td>0.999993</td>\n",
       "      <td>-0.009640</td>\n",
       "      <td>0.068239</td>\n",
       "    </tr>\n",
       "    <tr>\n",
       "      <th>total intl calls</th>\n",
       "      <td>0.020661</td>\n",
       "      <td>NaN</td>\n",
       "      <td>NaN</td>\n",
       "      <td>0.013957</td>\n",
       "      <td>0.008033</td>\n",
       "      <td>0.004574</td>\n",
       "      <td>0.008032</td>\n",
       "      <td>0.002541</td>\n",
       "      <td>0.017434</td>\n",
       "      <td>0.002541</td>\n",
       "      <td>-0.012353</td>\n",
       "      <td>0.000305</td>\n",
       "      <td>-0.012329</td>\n",
       "      <td>0.032304</td>\n",
       "      <td>1.000000</td>\n",
       "      <td>0.032372</td>\n",
       "      <td>-0.017561</td>\n",
       "      <td>-0.052844</td>\n",
       "    </tr>\n",
       "    <tr>\n",
       "      <th>total intl charge</th>\n",
       "      <td>0.009546</td>\n",
       "      <td>NaN</td>\n",
       "      <td>NaN</td>\n",
       "      <td>0.002884</td>\n",
       "      <td>-0.010092</td>\n",
       "      <td>0.021666</td>\n",
       "      <td>-0.010094</td>\n",
       "      <td>-0.011067</td>\n",
       "      <td>0.008674</td>\n",
       "      <td>-0.011074</td>\n",
       "      <td>-0.015180</td>\n",
       "      <td>-0.013630</td>\n",
       "      <td>-0.015186</td>\n",
       "      <td>0.999993</td>\n",
       "      <td>0.032372</td>\n",
       "      <td>1.000000</td>\n",
       "      <td>-0.009675</td>\n",
       "      <td>0.068259</td>\n",
       "    </tr>\n",
       "    <tr>\n",
       "      <th>customer service calls</th>\n",
       "      <td>-0.003796</td>\n",
       "      <td>NaN</td>\n",
       "      <td>NaN</td>\n",
       "      <td>-0.013263</td>\n",
       "      <td>-0.013423</td>\n",
       "      <td>-0.018942</td>\n",
       "      <td>-0.013427</td>\n",
       "      <td>-0.012985</td>\n",
       "      <td>0.002423</td>\n",
       "      <td>-0.012987</td>\n",
       "      <td>-0.009288</td>\n",
       "      <td>-0.012802</td>\n",
       "      <td>-0.009277</td>\n",
       "      <td>-0.009640</td>\n",
       "      <td>-0.017561</td>\n",
       "      <td>-0.009675</td>\n",
       "      <td>1.000000</td>\n",
       "      <td>0.208750</td>\n",
       "    </tr>\n",
       "    <tr>\n",
       "      <th>churn</th>\n",
       "      <td>0.016541</td>\n",
       "      <td>NaN</td>\n",
       "      <td>NaN</td>\n",
       "      <td>-0.089728</td>\n",
       "      <td>0.205151</td>\n",
       "      <td>0.018459</td>\n",
       "      <td>0.205151</td>\n",
       "      <td>0.092796</td>\n",
       "      <td>0.009233</td>\n",
       "      <td>0.092786</td>\n",
       "      <td>0.035493</td>\n",
       "      <td>0.006141</td>\n",
       "      <td>0.035496</td>\n",
       "      <td>0.068239</td>\n",
       "      <td>-0.052844</td>\n",
       "      <td>0.068259</td>\n",
       "      <td>0.208750</td>\n",
       "      <td>1.000000</td>\n",
       "    </tr>\n",
       "  </tbody>\n",
       "</table>\n",
       "</div>"
      ],
      "text/plain": [
       "                        account length  international plan  voice mail plan  \\\n",
       "account length                1.000000                 NaN              NaN   \n",
       "international plan                 NaN                 NaN              NaN   \n",
       "voice mail plan                    NaN                 NaN              NaN   \n",
       "number vmail messages        -0.004628                 NaN              NaN   \n",
       "total day minutes             0.006216                 NaN              NaN   \n",
       "total day calls               0.038470                 NaN              NaN   \n",
       "total day charge              0.006214                 NaN              NaN   \n",
       "total eve minutes            -0.006757                 NaN              NaN   \n",
       "total eve calls               0.019260                 NaN              NaN   \n",
       "total eve charge             -0.006745                 NaN              NaN   \n",
       "total night minutes          -0.008955                 NaN              NaN   \n",
       "total night calls            -0.013176                 NaN              NaN   \n",
       "total night charge           -0.008960                 NaN              NaN   \n",
       "total intl minutes            0.009514                 NaN              NaN   \n",
       "total intl calls              0.020661                 NaN              NaN   \n",
       "total intl charge             0.009546                 NaN              NaN   \n",
       "customer service calls       -0.003796                 NaN              NaN   \n",
       "churn                         0.016541                 NaN              NaN   \n",
       "\n",
       "                        number vmail messages  total day minutes  \\\n",
       "account length                      -0.004628           0.006216   \n",
       "international plan                        NaN                NaN   \n",
       "voice mail plan                           NaN                NaN   \n",
       "number vmail messages                1.000000           0.000778   \n",
       "total day minutes                    0.000778           1.000000   \n",
       "total day calls                     -0.009548           0.006750   \n",
       "total day charge                     0.000776           1.000000   \n",
       "total eve minutes                    0.017562           0.007043   \n",
       "total eve calls                     -0.005864           0.015769   \n",
       "total eve charge                     0.017578           0.007029   \n",
       "total night minutes                  0.007681           0.004323   \n",
       "total night calls                    0.007123           0.022972   \n",
       "total night charge                   0.007663           0.004300   \n",
       "total intl minutes                   0.002856          -0.010155   \n",
       "total intl calls                     0.013957           0.008033   \n",
       "total intl charge                    0.002884          -0.010092   \n",
       "customer service calls              -0.013263          -0.013423   \n",
       "churn                               -0.089728           0.205151   \n",
       "\n",
       "                        total day calls  total day charge  total eve minutes  \\\n",
       "account length                 0.038470          0.006214          -0.006757   \n",
       "international plan                  NaN               NaN                NaN   \n",
       "voice mail plan                     NaN               NaN                NaN   \n",
       "number vmail messages         -0.009548          0.000776           0.017562   \n",
       "total day minutes              0.006750          1.000000           0.007043   \n",
       "total day calls                1.000000          0.006753          -0.021451   \n",
       "total day charge               0.006753          1.000000           0.007050   \n",
       "total eve minutes             -0.021451          0.007050           1.000000   \n",
       "total eve calls                0.006462          0.015769          -0.011430   \n",
       "total eve charge              -0.021449          0.007036           1.000000   \n",
       "total night minutes            0.022938          0.004324          -0.012584   \n",
       "total night calls             -0.019557          0.022972           0.007586   \n",
       "total night charge             0.022927          0.004301          -0.012593   \n",
       "total intl minutes             0.021565         -0.010157          -0.011035   \n",
       "total intl calls               0.004574          0.008032           0.002541   \n",
       "total intl charge              0.021666         -0.010094          -0.011067   \n",
       "customer service calls        -0.018942         -0.013427          -0.012985   \n",
       "churn                          0.018459          0.205151           0.092796   \n",
       "\n",
       "                        total eve calls  total eve charge  \\\n",
       "account length                 0.019260         -0.006745   \n",
       "international plan                  NaN               NaN   \n",
       "voice mail plan                     NaN               NaN   \n",
       "number vmail messages         -0.005864          0.017578   \n",
       "total day minutes              0.015769          0.007029   \n",
       "total day calls                0.006462         -0.021449   \n",
       "total day charge               0.015769          0.007036   \n",
       "total eve minutes             -0.011430          1.000000   \n",
       "total eve calls                1.000000         -0.011423   \n",
       "total eve charge              -0.011423          1.000000   \n",
       "total night minutes           -0.002093         -0.012592   \n",
       "total night calls              0.007710          0.007596   \n",
       "total night charge            -0.002056         -0.012601   \n",
       "total intl minutes             0.008703         -0.011043   \n",
       "total intl calls               0.017434          0.002541   \n",
       "total intl charge              0.008674         -0.011074   \n",
       "customer service calls         0.002423         -0.012987   \n",
       "churn                          0.009233          0.092786   \n",
       "\n",
       "                        total night minutes  total night calls  \\\n",
       "account length                    -0.008955          -0.013176   \n",
       "international plan                      NaN                NaN   \n",
       "voice mail plan                         NaN                NaN   \n",
       "number vmail messages              0.007681           0.007123   \n",
       "total day minutes                  0.004323           0.022972   \n",
       "total day calls                    0.022938          -0.019557   \n",
       "total day charge                   0.004324           0.022972   \n",
       "total eve minutes                 -0.012584           0.007586   \n",
       "total eve calls                   -0.002093           0.007710   \n",
       "total eve charge                  -0.012592           0.007596   \n",
       "total night minutes                1.000000           0.011204   \n",
       "total night calls                  0.011204           1.000000   \n",
       "total night charge                 0.999999           0.011188   \n",
       "total intl minutes                -0.015207          -0.013605   \n",
       "total intl calls                  -0.012353           0.000305   \n",
       "total intl charge                 -0.015180          -0.013630   \n",
       "customer service calls            -0.009288          -0.012802   \n",
       "churn                              0.035493           0.006141   \n",
       "\n",
       "                        total night charge  total intl minutes  \\\n",
       "account length                   -0.008960            0.009514   \n",
       "international plan                     NaN                 NaN   \n",
       "voice mail plan                        NaN                 NaN   \n",
       "number vmail messages             0.007663            0.002856   \n",
       "total day minutes                 0.004300           -0.010155   \n",
       "total day calls                   0.022927            0.021565   \n",
       "total day charge                  0.004301           -0.010157   \n",
       "total eve minutes                -0.012593           -0.011035   \n",
       "total eve calls                  -0.002056            0.008703   \n",
       "total eve charge                 -0.012601           -0.011043   \n",
       "total night minutes               0.999999           -0.015207   \n",
       "total night calls                 0.011188           -0.013605   \n",
       "total night charge                1.000000           -0.015214   \n",
       "total intl minutes               -0.015214            1.000000   \n",
       "total intl calls                 -0.012329            0.032304   \n",
       "total intl charge                -0.015186            0.999993   \n",
       "customer service calls           -0.009277           -0.009640   \n",
       "churn                             0.035496            0.068239   \n",
       "\n",
       "                        total intl calls  total intl charge  \\\n",
       "account length                  0.020661           0.009546   \n",
       "international plan                   NaN                NaN   \n",
       "voice mail plan                      NaN                NaN   \n",
       "number vmail messages           0.013957           0.002884   \n",
       "total day minutes               0.008033          -0.010092   \n",
       "total day calls                 0.004574           0.021666   \n",
       "total day charge                0.008032          -0.010094   \n",
       "total eve minutes               0.002541          -0.011067   \n",
       "total eve calls                 0.017434           0.008674   \n",
       "total eve charge                0.002541          -0.011074   \n",
       "total night minutes            -0.012353          -0.015180   \n",
       "total night calls               0.000305          -0.013630   \n",
       "total night charge             -0.012329          -0.015186   \n",
       "total intl minutes              0.032304           0.999993   \n",
       "total intl calls                1.000000           0.032372   \n",
       "total intl charge               0.032372           1.000000   \n",
       "customer service calls         -0.017561          -0.009675   \n",
       "churn                          -0.052844           0.068259   \n",
       "\n",
       "                        customer service calls     churn  \n",
       "account length                       -0.003796  0.016541  \n",
       "international plan                         NaN       NaN  \n",
       "voice mail plan                            NaN       NaN  \n",
       "number vmail messages                -0.013263 -0.089728  \n",
       "total day minutes                    -0.013423  0.205151  \n",
       "total day calls                      -0.018942  0.018459  \n",
       "total day charge                     -0.013427  0.205151  \n",
       "total eve minutes                    -0.012985  0.092796  \n",
       "total eve calls                       0.002423  0.009233  \n",
       "total eve charge                     -0.012987  0.092786  \n",
       "total night minutes                  -0.009288  0.035493  \n",
       "total night calls                    -0.012802  0.006141  \n",
       "total night charge                   -0.009277  0.035496  \n",
       "total intl minutes                   -0.009640  0.068239  \n",
       "total intl calls                     -0.017561 -0.052844  \n",
       "total intl charge                    -0.009675  0.068259  \n",
       "customer service calls                1.000000  0.208750  \n",
       "churn                                 0.208750  1.000000  "
      ]
     },
     "execution_count": 11,
     "metadata": {},
     "output_type": "execute_result"
    }
   ],
   "source": [
    "# Correlation matrix\n",
    "corr = df.corr()\n",
    "corr"
   ]
  },
  {
   "cell_type": "code",
   "execution_count": 12,
   "metadata": {},
   "outputs": [
    {
     "data": {
      "image/png": "[encoded data removed]",
      "text/plain": [
       "<Figure size 1080x720 with 2 Axes>"
      ]
     },
     "metadata": {},
     "output_type": "display_data"
    }
   ],
   "source": [
    "# Heatmap\n",
    "\n",
    "fig, ax = plt.subplots(figsize=(15, 10))\n",
    "\n",
    "sns.heatmap(corr, \n",
    "            # Mask to show only half the values instead of showing duplicates\n",
    "            mask=np.triu(np.ones_like(corr, dtype=bool)),\n",
    "            # Specifies that we want values not just colors\n",
    "            annot = True,\n",
    "            center=0);\n",
    "\n",
    "# Customize the plot appearance\n",
    "ax.set_title(\"Heatmap of Correlation Between Attributes\");"
   ]
  },
  {
   "cell_type": "code",
   "execution_count": 13,
   "metadata": {},
   "outputs": [],
   "source": [
    "# Separate data into feature and target DataFrames\n",
    "X = df.drop('churn', axis = 1)\n",
    "y = df['churn']\n",
    "\n",
    "# Split data into train and test splits\n",
    "X_train, X_test, y_train, y_test = train_test_split(X, y, test_size=.25,\n",
    "                                                    random_state=1)\n",
    "# Scale the data for modeling\n",
    "call_scaler = StandardScaler()\n",
    "X_train_sc = call_scaler.fit_transform(X_train)\n",
    "X_test_sc = call_scaler.transform(X_test)\n",
    "\n",
    "# x and y train used for unseen data in a short while, used in production to see which customers will or won't churn\n",
    "# divide data into training and test set \n",
    "# want to test the data to see how it performs with unseen data\n",
    "# need certain labels that we know the answer to (where test set comes in)"
   ]
  },
  {
   "cell_type": "code",
   "execution_count": 14,
   "metadata": {},
   "outputs": [
    {
     "data": {
      "text/plain": [
       "((2499, 17), (834, 17), (2499,), (834,))"
      ]
     },
     "execution_count": 14,
     "metadata": {},
     "output_type": "execute_result"
    }
   ],
   "source": [
    "X_train.shape, X_test.shape, y_train.shape, y_test.shape"
   ]
  },
  {
   "cell_type": "markdown",
   "metadata": {},
   "source": [
    "# Data Modeling"
   ]
  },
  {
   "cell_type": "markdown",
   "metadata": {},
   "source": [
    "For modeling we will go with 3 models, logistic regression, DecisionTreeClassifier, and XGBClassifier. The steps for modeling will go as follows, build a model, model.predict(), print classification report and confusion matrix for model, and finally determine the fit of the model. "
   ]
  },
  {
   "cell_type": "code",
   "execution_count": 15,
   "metadata": {},
   "outputs": [],
   "source": [
    "# of first logistic regression model \n",
    "# print out accuracy, classification report for training set\n",
    "\n",
    "# build model > model.predict() > print out classification report for training and test set > determine the fit\n",
    "# repeat for two more modeling techniques, random forests and gradient boosting\n",
    "# pick out best model and then do a grid search on that model"
   ]
  },
  {
   "cell_type": "markdown",
   "metadata": {},
   "source": [
    "### Logistic Regression Model #1"
   ]
  },
  {
   "cell_type": "code",
   "execution_count": 16,
   "metadata": {},
   "outputs": [
    {
     "data": {
      "text/plain": [
       "LogisticRegression(random_state=42)"
      ]
     },
     "execution_count": 16,
     "metadata": {},
     "output_type": "execute_result"
    }
   ],
   "source": [
    "# Train a logistic regression model with the train data\n",
    "churn_model = LogisticRegression(random_state=42)\n",
    "churn_model.fit(X_train_sc, y_train)"
   ]
  },
  {
   "cell_type": "code",
   "execution_count": 17,
   "metadata": {},
   "outputs": [
    {
     "data": {
      "text/plain": [
       "0    712\n",
       "1    122\n",
       "Name: churn, dtype: int64"
      ]
     },
     "execution_count": 17,
     "metadata": {},
     "output_type": "execute_result"
    }
   ],
   "source": [
    "# View the amount of values\n",
    "y_test.value_counts()\n",
    "\n",
    "# there is a class imbalance with the first model"
   ]
  },
  {
   "cell_type": "code",
   "execution_count": 18,
   "metadata": {},
   "outputs": [],
   "source": [
    "# Generate predictions\n",
    "y_hat_train = churn_model.predict(X_train_sc)\n",
    "y_hat_test = churn_model.predict(X_test_sc)\n",
    "\n",
    "#y_hat_train\n",
    "#y_hat_test"
   ]
  },
  {
   "cell_type": "code",
   "execution_count": 19,
   "metadata": {},
   "outputs": [
    {
     "name": "stdout",
     "output_type": "stream",
     "text": [
      "Training Precision:  0.5853658536585366\n",
      "Testing Precision:  0.4782608695652174\n",
      "\n",
      "\n",
      "\n",
      "Training Recall:  0.1329639889196676\n",
      "Testing Recall:  0.09016393442622951\n",
      "\n",
      "\n",
      "\n",
      "Training Accuracy:  0.8611444577831132\n",
      "Testing Accuracy:  0.8525179856115108\n",
      "\n",
      "\n",
      "\n",
      "Training F1-Score:  0.21670428893905194\n",
      "Testing F1-Score:  0.15172413793103448\n"
     ]
    }
   ],
   "source": [
    "# Calculate the precision, recall, accuracy, and f1 score\n",
    "print('Training Precision: ', precision_score(y_train, y_hat_train))\n",
    "print('Testing Precision: ', precision_score(y_test, y_hat_test))\n",
    "print('\\n\\n')\n",
    "\n",
    "print('Training Recall: ', recall_score(y_train, y_hat_train))\n",
    "print('Testing Recall: ', recall_score(y_test, y_hat_test))\n",
    "print('\\n\\n')\n",
    "\n",
    "print('Training Accuracy: ', accuracy_score(y_train, y_hat_train))\n",
    "print('Testing Accuracy: ', accuracy_score(y_test, y_hat_test))\n",
    "print('\\n\\n')\n",
    "\n",
    "print('Training F1-Score: ', f1_score(y_train, y_hat_train))\n",
    "print('Testing F1-Score: ', f1_score(y_test, y_hat_test))"
   ]
  },
  {
   "cell_type": "code",
   "execution_count": 20,
   "metadata": {},
   "outputs": [
    {
     "name": "stdout",
     "output_type": "stream",
     "text": [
      "              precision    recall  f1-score   support\n",
      "\n",
      "           0       0.87      0.98      0.92      2138\n",
      "           1       0.59      0.13      0.22       361\n",
      "\n",
      "    accuracy                           0.86      2499\n",
      "   macro avg       0.73      0.56      0.57      2499\n",
      "weighted avg       0.83      0.86      0.82      2499\n",
      "\n"
     ]
    }
   ],
   "source": [
    "print(classification_report(y_train, y_hat_train))\n",
    "\n",
    "# focus on recall, why it's important"
   ]
  },
  {
   "cell_type": "markdown",
   "metadata": {},
   "source": [
    "The 1st linear regression model did not perform as well as we had expected. To fix this we will use the SMOTE to balance the data, by creating synthetic values to balance our existing data. "
   ]
  },
  {
   "cell_type": "code",
   "execution_count": 21,
   "metadata": {},
   "outputs": [
    {
     "name": "stdout",
     "output_type": "stream",
     "text": [
      "-----------------------------------------\n",
      "Synthetic sample class distribution: \n",
      "\n",
      "1    2138\n",
      "0    2138\n",
      "Name: churn, dtype: int64\n"
     ]
    }
   ],
   "source": [
    "# create new synthetic data using SMOTE to balance data\n",
    "smote = SMOTE()\n",
    "X_train_resampled, y_train_resampled = smote.fit_sample(X_train_sc, y_train)\n",
    "# Preview synthetic sample class distribution\n",
    "print('-----------------------------------------')\n",
    "print('Synthetic sample class distribution: \\n')\n",
    "print(pd.Series(y_train_resampled).value_counts()) \n",
    "\n",
    "# fixed class imbalance"
   ]
  },
  {
   "cell_type": "markdown",
   "metadata": {},
   "source": [
    "### Logistic Regression Model #2"
   ]
  },
  {
   "cell_type": "code",
   "execution_count": 22,
   "metadata": {},
   "outputs": [
    {
     "data": {
      "text/plain": [
       "LogisticRegression(random_state=42)"
      ]
     },
     "execution_count": 22,
     "metadata": {},
     "output_type": "execute_result"
    }
   ],
   "source": [
    "# 2nd linear regression model\n",
    "churn_model2 = LogisticRegression(random_state=42)\n",
    "churn_model2.fit(X_train_resampled, y_train_resampled)"
   ]
  },
  {
   "cell_type": "code",
   "execution_count": 23,
   "metadata": {},
   "outputs": [],
   "source": [
    "# Generate 2nd batch of predictions using resampled data \n",
    "y_hat_train2 = churn_model2.predict(X_train_resampled)\n",
    "y_hat_test2 = churn_model2.predict(X_test_sc)\n",
    "\n",
    "# y_hat_train2\n",
    "# y_hat_test2\n"
   ]
  },
  {
   "cell_type": "code",
   "execution_count": 24,
   "metadata": {},
   "outputs": [
    {
     "name": "stdout",
     "output_type": "stream",
     "text": [
      "Training Precision:  0.7293095564700502\n",
      "Testing Precision:  0.2696245733788396\n",
      "\n",
      "\n",
      "\n",
      "Training Recall:  0.7460243217960711\n",
      "Testing Recall:  0.6475409836065574\n",
      "\n",
      "\n",
      "\n",
      "Training Accuracy:  0.7345650140318054\n",
      "Testing Accuracy:  0.6918465227817746\n",
      "\n",
      "\n",
      "\n",
      "Training F1-Score:  0.7375722543352601\n",
      "Testing F1-Score:  0.38072289156626504\n"
     ]
    }
   ],
   "source": [
    "# print precision, recall, accuracy, and f1\n",
    "print('Training Precision: ', precision_score(y_train_resampled, y_hat_train2))\n",
    "print('Testing Precision: ', precision_score(y_test, y_hat_test2))\n",
    "print('\\n\\n')\n",
    "\n",
    "print('Training Recall: ', recall_score(y_train_resampled, y_hat_train2))\n",
    "print('Testing Recall: ', recall_score(y_test, y_hat_test2))\n",
    "print('\\n\\n')\n",
    "\n",
    "print('Training Accuracy: ', accuracy_score(y_train_resampled, y_hat_train2))\n",
    "print('Testing Accuracy: ', accuracy_score(y_test, y_hat_test2))\n",
    "print('\\n\\n')\n",
    "\n",
    "print('Training F1-Score: ', f1_score(y_train_resampled, y_hat_train2))\n",
    "print('Testing F1-Score: ', f1_score(y_test, y_hat_test2))"
   ]
  },
  {
   "cell_type": "code",
   "execution_count": 25,
   "metadata": {},
   "outputs": [
    {
     "name": "stdout",
     "output_type": "stream",
     "text": [
      "              precision    recall  f1-score   support\n",
      "\n",
      "           0       0.74      0.72      0.73      2138\n",
      "           1       0.73      0.75      0.74      2138\n",
      "\n",
      "    accuracy                           0.73      4276\n",
      "   macro avg       0.73      0.73      0.73      4276\n",
      "weighted avg       0.73      0.73      0.73      4276\n",
      "\n"
     ]
    }
   ],
   "source": [
    "# classification report for train data\n",
    "print(classification_report(y_train_resampled, y_hat_train2))"
   ]
  },
  {
   "cell_type": "code",
   "execution_count": 26,
   "metadata": {},
   "outputs": [
    {
     "name": "stdout",
     "output_type": "stream",
     "text": [
      "              precision    recall  f1-score   support\n",
      "\n",
      "           0       0.92      0.70      0.79       712\n",
      "           1       0.27      0.65      0.38       122\n",
      "\n",
      "    accuracy                           0.69       834\n",
      "   macro avg       0.60      0.67      0.59       834\n",
      "weighted avg       0.83      0.69      0.73       834\n",
      "\n"
     ]
    }
   ],
   "source": [
    "# classification report for test data\n",
    "print(classification_report(y_test, y_hat_test2))"
   ]
  },
  {
   "cell_type": "code",
   "execution_count": 27,
   "metadata": {},
   "outputs": [
    {
     "data": {
      "image/png": "[encoded data removed]",
      "text/plain": [
       "<Figure size 432x288 with 2 Axes>"
      ]
     },
     "metadata": {},
     "output_type": "display_data"
    }
   ],
   "source": [
    "# confusion matrix for 2nd linear regression model\n",
    "plot_confusion_matrix(churn_model2, X_test_sc, y_test, \n",
    "                    cmap=plt.cm.Blues)\n",
    "\n",
    "plt.show()\n",
    "\n",
    "\n",
    "# there is a lot more True Positives than all the other \n",
    "# From most to least = True Positive > False Negative > True Negative > False Positive\n",
    "\n",
    "# True Positives (TP): The model predicted positive and the actual label is positive\n",
    "# True Negative (TN): The model predicted negative and the actual label is negative\n",
    "# False Positive (FP): The model predicted positive and the actual label was negative\n",
    "# False Negative (FN): The model predicted  negative and the actual label was positive\n",
    "\n",
    "# Looks like the 2nd model is a good fit "
   ]
  },
  {
   "cell_type": "markdown",
   "metadata": {},
   "source": [
    "The 2nd linear regression model performed much better, and based on its scores is sufficient enough to use for analysis. We will continue onto our 2nd model, DecisionTreeClassifier."
   ]
  },
  {
   "cell_type": "markdown",
   "metadata": {},
   "source": [
    "### DecisionTreeClassifier"
   ]
  },
  {
   "cell_type": "code",
   "execution_count": 28,
   "metadata": {},
   "outputs": [
    {
     "data": {
      "text/plain": [
       "DecisionTreeClassifier(max_depth=4)"
      ]
     },
     "execution_count": 28,
     "metadata": {},
     "output_type": "execute_result"
    }
   ],
   "source": [
    "# grid search \n",
    "\n",
    "# Initiate and fit a DecisionTreeClassifier\n",
    "tree_clf = DecisionTreeClassifier(criterion='gini', max_depth=4)\n",
    "tree_clf.fit(X_train_resampled, y_train_resampled)"
   ]
  },
  {
   "cell_type": "code",
   "execution_count": 29,
   "metadata": {},
   "outputs": [],
   "source": [
    "# Test set predictions\n",
    "test_pred = tree_clf.predict(X_test_sc)\n",
    "#pred"
   ]
  },
  {
   "cell_type": "code",
   "execution_count": 30,
   "metadata": {},
   "outputs": [
    {
     "name": "stdout",
     "output_type": "stream",
     "text": [
      "              precision    recall  f1-score   support\n",
      "\n",
      "           0       0.93      0.93      0.93       712\n",
      "           1       0.61      0.59      0.60       122\n",
      "\n",
      "    accuracy                           0.88       834\n",
      "   macro avg       0.77      0.76      0.76       834\n",
      "weighted avg       0.88      0.88      0.88       834\n",
      "\n"
     ]
    }
   ],
   "source": [
    "# Classification report\n",
    "print(classification_report(y_test, test_pred))"
   ]
  },
  {
   "cell_type": "code",
   "execution_count": 31,
   "metadata": {},
   "outputs": [
    {
     "data": {
      "image/png": "[encoded data removed]",
      "text/plain": [
       "<Figure size 432x288 with 2 Axes>"
      ]
     },
     "metadata": {},
     "output_type": "display_data"
    }
   ],
   "source": [
    "# confusion matrix for DecisionTreeClassifier\n",
    "plot_confusion_matrix(tree_clf, X_test_sc, y_test, \n",
    "                    cmap=plt.cm.Blues)\n",
    "\n",
    "plt.show()"
   ]
  },
  {
   "cell_type": "markdown",
   "metadata": {},
   "source": [
    "The DecisionTreeClassifier model performed much better than our logistic regression model. It scored in the .90's across the board for precision, recall, and f1-score, and also displayed a high number, majority, of true positives in the confusion matrix. We will move onto our final model XGBClassifier. "
   ]
  },
  {
   "cell_type": "markdown",
   "metadata": {},
   "source": [
    "### XGBClassifier"
   ]
  },
  {
   "cell_type": "code",
   "execution_count": 32,
   "metadata": {},
   "outputs": [],
   "source": [
    "# Initiate XGBClassifier \n",
    "XG = XGBClassifier()\n",
    "\n",
    "# Fit XBGClassifier \n",
    "XG.fit(X_train_resampled, y_train_resampled)\n",
    "\n",
    "# Predict on training and test sets\n",
    "training_pred = XG.predict(X_train_resampled)\n",
    "test_pred = XG.predict(X_test_sc)\n",
    "\n",
    "# training_pred\n",
    "# test_pred"
   ]
  },
  {
   "cell_type": "code",
   "execution_count": 33,
   "metadata": {},
   "outputs": [
    {
     "name": "stdout",
     "output_type": "stream",
     "text": [
      "              precision    recall  f1-score   support\n",
      "\n",
      "           0       0.96      0.93      0.94       730\n",
      "           1       0.60      0.70      0.65       104\n",
      "\n",
      "    accuracy                           0.90       834\n",
      "   macro avg       0.78      0.82      0.80       834\n",
      "weighted avg       0.91      0.90      0.91       834\n",
      "\n"
     ]
    }
   ],
   "source": [
    "# Classification report for test\n",
    "print(classification_report(test_pred, y_test))"
   ]
  },
  {
   "cell_type": "code",
   "execution_count": 34,
   "metadata": {},
   "outputs": [
    {
     "name": "stdout",
     "output_type": "stream",
     "text": [
      "              precision    recall  f1-score   support\n",
      "\n",
      "           0       1.00      1.00      1.00      2138\n",
      "           1       1.00      1.00      1.00      2138\n",
      "\n",
      "    accuracy                           1.00      4276\n",
      "   macro avg       1.00      1.00      1.00      4276\n",
      "weighted avg       1.00      1.00      1.00      4276\n",
      "\n"
     ]
    }
   ],
   "source": [
    "# Classification report for training \n",
    "print(classification_report(training_pred, y_train_resampled))"
   ]
  },
  {
   "cell_type": "code",
   "execution_count": 35,
   "metadata": {},
   "outputs": [
    {
     "data": {
      "image/png": "[encoded data removed]",
      "text/plain": [
       "<Figure size 432x288 with 2 Axes>"
      ]
     },
     "metadata": {},
     "output_type": "display_data"
    }
   ],
   "source": [
    "# confusion matrix for XGBClassifier\n",
    "plot_confusion_matrix(XG, X_test_sc, y_test, \n",
    "                    cmap=plt.cm.Blues)\n",
    "\n",
    "plt.show()"
   ]
  },
  {
   "cell_type": "markdown",
   "metadata": {},
   "source": [
    "XGBClassifier showed the most promise among the other two models. It showed higher scores for the test data and also ran perfect scores on the training data. "
   ]
  },
  {
   "cell_type": "markdown",
   "metadata": {},
   "source": [
    "# Evaluation"
   ]
  },
  {
   "cell_type": "markdown",
   "metadata": {},
   "source": [
    "After analyzing and evaluating the data set from Syria Tel we created 3 models the scores from highest to lowest go as follows:\n",
    "\n",
    "1) XGBClassifier\n",
    "\n",
    "2) DecisionTreeClassifier\n",
    "\n",
    "3) LogisticRegression\n",
    "\n",
    "For this analysis we will be choosing XGBClassifier as the chosen model. On the classification report it scored perfectly on the training data and had the highest scores in precision, recall, and f1-score. We want to ensure the model runs as accurateltly as possible, meaning we also want the chosen model to have low false positives and true negatives. The XGBClassifier also falls within this category. "
   ]
  },
  {
   "cell_type": "markdown",
   "metadata": {},
   "source": [
    "# Conclusion"
   ]
  },
  {
   "cell_type": "markdown",
   "metadata": {},
   "source": [
    "Recommendations:\n",
    "\n",
    "1) Bring down costs of day charges\n",
    "\n",
    "2) offer bonuses for minutes used \n",
    "\n",
    "2) Implement more training focused on customer service\n",
    "\n",
    "Upon complete analysis of models and heatmap, customer service calls, day charges, and day minutes were the highest correlated with customer churn. If SyriaTel focus' its efforts into the any (or all) of the recommendations above they will see less customer churn. "
   ]
  }
 ],
 "metadata": {
  "kernelspec": {
   "display_name": "Python 3",
   "language": "python",
   "name": "python3"
  },
  "language_info": {
   "codemirror_mode": {
    "name": "ipython",
    "version": 3
   },
   "file_extension": ".py",
   "mimetype": "text/x-python",
   "name": "python",
   "nbconvert_exporter": "python",
   "pygments_lexer": "ipython3",
   "version": "3.8.5"
  }
 },
 "nbformat": 4,
 "nbformat_minor": 4
}
